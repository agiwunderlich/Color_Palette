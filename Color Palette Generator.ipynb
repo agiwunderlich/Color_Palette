{
 "cells": [
  {
   "cell_type": "code",
   "execution_count": 3,
   "id": "0a2176c5",
   "metadata": {},
   "outputs": [],
   "source": [
    "import openai"
   ]
  },
  {
   "cell_type": "code",
   "execution_count": 4,
   "id": "67918457",
   "metadata": {},
   "outputs": [],
   "source": [
    "from dotenv import dotenv_values"
   ]
  },
  {
   "cell_type": "code",
   "execution_count": 5,
   "id": "e83aa9af",
   "metadata": {},
   "outputs": [],
   "source": [
    "config = dotenv_values(\".env\")"
   ]
  },
  {
   "cell_type": "code",
   "execution_count": 6,
   "id": "e2c7fccb",
   "metadata": {},
   "outputs": [],
   "source": [
    "openai.api_key = config[\"OPENAI_API_KEY\"]"
   ]
  },
  {
   "cell_type": "code",
   "execution_count": 7,
   "id": "0a579fbe",
   "metadata": {},
   "outputs": [
    {
     "name": "stdout",
     "output_type": "stream",
     "text": [
      "[\"#FF4400\",\"#FFBB00\",\"#3344FF\",\"#FF8C00\",\"#663D2C\",\"#FFCDB2\"]\n"
     ]
    }
   ],
   "source": [
    "prompt = \"\"\"\n",
    "You are a color palette generating assistant that responds to text prompts for color palettes\n",
    "You should generate color palettes that fit the theme, mood, or instructions in the prompt.\n",
    "The palettes should be between 2 and 8 colors.\n",
    "\n",
    "Q: Convert he following verbal description of a color palette into a list of colors: The Mediterranean Sea\n",
    "A: [\"#006699\", \"#66CCCC\", \"#F0E68C\", \"#008000\", \"#F08080\"]\n",
    "\n",
    "Q: Convert he following verbal description of a color palette into a list of colors: sage, nature, earth\n",
    "A: [\"#EDF1D6\", \"#9DC08B\", \"#609966\", \"#40513B\"]\n",
    "\n",
    "Desired Format: a JSON array of hexadecimal color codes\n",
    "\n",
    "Text: a beautiful sunset\n",
    "\n",
    "Result:\n",
    "\"\"\"\n",
    "\n",
    "response = openai.Completion.create(\n",
    "    prompt=prompt,\n",
    "    model=\"text-davinci-003\",\n",
    "    max_tokens=200,\n",
    ")\n",
    "\n",
    "print(response[\"choices\"][0][\"text\"])"
   ]
  },
  {
   "cell_type": "code",
   "execution_count": 8,
   "id": "23f241bd",
   "metadata": {},
   "outputs": [
    {
     "data": {
      "text/markdown": [
       "<span style='color: #FF4400'>████</span> <span style='color: #FFBB00'>████</span> <span style='color: #3344FF'>████</span> <span style='color: #FF8C00'>████</span> <span style='color: #663D2C'>████</span> <span style='color: #FFCDB2'>████</span>"
      ],
      "text/plain": [
       "<IPython.core.display.Markdown object>"
      ]
     },
     "metadata": {},
     "output_type": "display_data"
    }
   ],
   "source": [
    "from IPython.display import Markdown, display\n",
    "\n",
    "def display_colors(colors):\n",
    "    display(Markdown(\" \".join(\n",
    "        f\"<span style='color: {color}'>{chr(9608) * 4}</span>\"\n",
    "        for color in colors\n",
    "    )))\n",
    "        \n",
    "        \n",
    "    \n",
    "display_colors([\"#FF4400\",\"#FFBB00\",\"#3344FF\",\"#FF8C00\",\"#663D2C\",\"#FFCDB2\"])"
   ]
  },
  {
   "cell_type": "code",
   "execution_count": null,
   "id": "32e21f37",
   "metadata": {},
   "outputs": [],
   "source": []
  }
 ],
 "metadata": {
  "kernelspec": {
   "display_name": "Python 3 (ipykernel)",
   "language": "python",
   "name": "python3"
  },
  "language_info": {
   "codemirror_mode": {
    "name": "ipython",
    "version": 3
   },
   "file_extension": ".py",
   "mimetype": "text/x-python",
   "name": "python",
   "nbconvert_exporter": "python",
   "pygments_lexer": "ipython3",
   "version": "3.11.3"
  }
 },
 "nbformat": 4,
 "nbformat_minor": 5
}
